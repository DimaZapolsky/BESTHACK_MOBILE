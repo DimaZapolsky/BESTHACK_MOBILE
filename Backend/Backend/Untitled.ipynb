{
 "cells": [
  {
   "cell_type": "code",
   "execution_count": 4,
   "metadata": {},
   "outputs": [
    {
     "ename": "error",
     "evalue": "OpenCV(4.0.0) /Users/travis/build/skvark/opencv-python/opencv/modules/imgproc/src/color.cpp:181: error: (-215:Assertion failed) !_src.empty() in function 'cvtColor'\n",
     "traceback": [
      "\u001b[0;31m---------------------------------------------------------------------------\u001b[0m",
      "\u001b[0;31merror\u001b[0m                                     Traceback (most recent call last)",
      "\u001b[0;32m<ipython-input-4-87831aaac22e>\u001b[0m in \u001b[0;36m<module>\u001b[0;34m()\u001b[0m\n\u001b[1;32m     50\u001b[0m     \u001b[0;32mreturn\u001b[0m \u001b[0mfilename\u001b[0m\u001b[0;34m\u001b[0m\u001b[0m\n\u001b[1;32m     51\u001b[0m \u001b[0;34m\u001b[0m\u001b[0m\n\u001b[0;32m---> 52\u001b[0;31m \u001b[0msource_img\u001b[0m \u001b[0;34m=\u001b[0m \u001b[0mImage\u001b[0m\u001b[0;34m.\u001b[0m\u001b[0mopen\u001b[0m\u001b[0;34m(\u001b[0m\u001b[0mtransform\u001b[0m\u001b[0;34m(\u001b[0m\u001b[0;34m'card.jpg'\u001b[0m\u001b[0;34m)\u001b[0m\u001b[0;34m)\u001b[0m\u001b[0;34m\u001b[0m\u001b[0m\n\u001b[0m\u001b[1;32m     53\u001b[0m \u001b[0mpytesseract\u001b[0m\u001b[0;34m.\u001b[0m\u001b[0mimage_to_string\u001b[0m\u001b[0;34m(\u001b[0m\u001b[0msource_img\u001b[0m\u001b[0;34m,\u001b[0m \u001b[0mlang\u001b[0m\u001b[0;34m=\u001b[0m\u001b[0;34m'eng'\u001b[0m\u001b[0;34m,\u001b[0m \u001b[0mconfig\u001b[0m\u001b[0;34m=\u001b[0m\u001b[0;34m'--oem 1 --psm 12'\u001b[0m\u001b[0;34m)\u001b[0m\u001b[0;34m\u001b[0m\u001b[0m\n\u001b[1;32m     54\u001b[0m \u001b[0;34m\u001b[0m\u001b[0m\n",
      "\u001b[0;32m<ipython-input-4-87831aaac22e>\u001b[0m in \u001b[0;36mtransform\u001b[0;34m(p2img)\u001b[0m\n\u001b[1;32m     43\u001b[0m \u001b[0;32mdef\u001b[0m \u001b[0mtransform\u001b[0m\u001b[0;34m(\u001b[0m\u001b[0mp2img\u001b[0m\u001b[0;34m)\u001b[0m\u001b[0;34m:\u001b[0m\u001b[0;34m\u001b[0m\u001b[0m\n\u001b[1;32m     44\u001b[0m     \u001b[0mimage\u001b[0m \u001b[0;34m=\u001b[0m \u001b[0mcv2\u001b[0m\u001b[0;34m.\u001b[0m\u001b[0mimread\u001b[0m\u001b[0;34m(\u001b[0m\u001b[0mp2img\u001b[0m\u001b[0;34m)\u001b[0m\u001b[0;34m\u001b[0m\u001b[0m\n\u001b[0;32m---> 45\u001b[0;31m     \u001b[0mgray\u001b[0m \u001b[0;34m=\u001b[0m \u001b[0mcv2\u001b[0m\u001b[0;34m.\u001b[0m\u001b[0mcvtColor\u001b[0m\u001b[0;34m(\u001b[0m\u001b[0mimage\u001b[0m\u001b[0;34m,\u001b[0m \u001b[0mcv2\u001b[0m\u001b[0;34m.\u001b[0m\u001b[0mCOLOR_BGR2GRAY\u001b[0m\u001b[0;34m)\u001b[0m\u001b[0;34m\u001b[0m\u001b[0m\n\u001b[0m\u001b[1;32m     46\u001b[0m     \u001b[0mgray\u001b[0m \u001b[0;34m=\u001b[0m \u001b[0mcv2\u001b[0m\u001b[0;34m.\u001b[0m\u001b[0mthreshold\u001b[0m\u001b[0;34m(\u001b[0m\u001b[0mgray\u001b[0m\u001b[0;34m,\u001b[0m \u001b[0;36m0\u001b[0m\u001b[0;34m,\u001b[0m \u001b[0;36m255\u001b[0m\u001b[0;34m,\u001b[0m \u001b[0mcv2\u001b[0m\u001b[0;34m.\u001b[0m\u001b[0mTHRESH_BINARY\u001b[0m \u001b[0;34m|\u001b[0m \u001b[0mcv2\u001b[0m\u001b[0;34m.\u001b[0m\u001b[0mTHRESH_OTSU\u001b[0m\u001b[0;34m)\u001b[0m\u001b[0;34m[\u001b[0m\u001b[0;36m1\u001b[0m\u001b[0;34m]\u001b[0m\u001b[0;34m\u001b[0m\u001b[0m\n\u001b[1;32m     47\u001b[0m     \u001b[0mgray\u001b[0m \u001b[0;34m=\u001b[0m \u001b[0mcv2\u001b[0m\u001b[0;34m.\u001b[0m\u001b[0mmedianBlur\u001b[0m\u001b[0;34m(\u001b[0m\u001b[0mgray\u001b[0m\u001b[0;34m,\u001b[0m \u001b[0;36m3\u001b[0m\u001b[0;34m)\u001b[0m\u001b[0;34m\u001b[0m\u001b[0m\n",
      "\u001b[0;31merror\u001b[0m: OpenCV(4.0.0) /Users/travis/build/skvark/opencv-python/opencv/modules/imgproc/src/color.cpp:181: error: (-215:Assertion failed) !_src.empty() in function 'cvtColor'\n"
     ],
     "output_type": "error"
    }
   ],
   "source": [
    "from PIL import Image, ImageDraw\n",
    "from PIL import ImageFilter\n",
    "import pytesseract\n",
    "from copy import deepcopy\n",
    "import cv2\n",
    "import numpy as np\n",
    "import os\n",
    "import imutils\n",
    "\n",
    "\n",
    "def real_text_boxes(image, xoffset = 0, yoffset = 0, global_draw=None, show_seg=False):\n",
    "    boxes = pytesseract.image_to_boxes(image, lang='eng', config='--oem 1 --psm 12')\n",
    "    copy_image = deepcopy(image)\n",
    "    draw = ImageDraw.Draw(copy_image)\n",
    "    real_boxes = []\n",
    "    print(boxes)\n",
    "    for box in boxes.split('\\n'):\n",
    "        box = box.split(' ')\n",
    "        if len(box) < 5:\n",
    "            return\n",
    "        if global_draw != None:\n",
    "            global_draw.rectangle((((int(box[1]) + xoffset, image.height - int(box[2]) + yoffset),\n",
    "                                    (int(box[3]) + xoffset, image.height - int(box[4]) + yoffset))), outline=(255))\n",
    "        draw.rectangle((((int(box[1]) + xoffset, image.height - int(box[2]) + yoffset),\n",
    "                         (int(box[3]) + xoffset, image.height - int(box[4]) + yoffset))), outline=(255))\n",
    "        real_boxes.append((int(box[1]) + xoffset, image.height - int(box[2]) + yoffset, int(box[3]) + xoffset, image.height - int(box[4]) + yoffset))\n",
    "    if show_seg:\n",
    "        copy_image.show()\n",
    "    del copy_image\n",
    "    del draw\n",
    "    return real_boxes\n",
    "\n",
    "\n",
    "def create_image_crop(image, n, m):\n",
    "    crops = []\n",
    "    for i in range(0, n):\n",
    "        for j in range(0, m):\n",
    "            crops.append(image.crop((i * source_img.width // n, j * source_img.height // m,\n",
    "                                    (i + 1) * source_img.width // n, (j + 1) * source_img.height // m)))\n",
    "    return crops\n",
    "\n",
    "\n",
    "def transform(p2img):\n",
    "    image = cv2.imread(p2img)\n",
    "    gray = cv2.cvtColor(image, cv2.COLOR_BGR2GRAY)\n",
    "    gray = cv2.threshold(gray, 0, 255, cv2.THRESH_BINARY | cv2.THRESH_OTSU)[1]\n",
    "    gray = cv2.medianBlur(gray, 3)\n",
    "    filename = \"{}.png\".format(os.getpid())\n",
    "    cv2.imwrite(filename, gray)\n",
    "    return filename\n",
    "\n",
    "source_img = Image.open(transform('card.jpg'))\n",
    "pytesseract.image_to_string(source_img, lang='eng', config='--oem 1 --psm 12')\n",
    "\n",
    "crops = create_image_crop(source_img, 1, 2)\n",
    "mp = {}\n",
    "for crop_img in crops:\n",
    "    for box in real_text_boxes(crop_img, show_seg=True):\n",
    "        img = source_img.crop((0, min(300, 340), source_img.width, max(300, 340)))\n",
    "        print(pytesseract.image_to_string(img, lang='eng', config='--oem 1 --psm 12'))\n",
    "        img.show()\n",
    "        break\n",
    "\n",
    "source_img.show()"
   ]
  },
  {
   "cell_type": "code",
   "execution_count": 5,
   "metadata": {},
   "outputs": [
    {
     "name": "stdout",
     "output_type": "stream",
     "text": [
      "Requirement already satisfied: opencv-python in /anaconda3/lib/python3.7/site-packages (4.0.0.21)\r\n",
      "Requirement already satisfied: numpy>=1.14.5 in /anaconda3/lib/python3.7/site-packages (from opencv-python) (1.15.1)\r\n"
     ]
    }
   ],
   "source": [
    "!pip install opencv-python"
   ]
  },
  {
   "cell_type": "code",
   "execution_count": null,
   "metadata": {},
   "outputs": [],
   "source": []
  }
 ],
 "metadata": {
  "kernelspec": {
   "display_name": "Python 3",
   "language": "python",
   "name": "python3"
  },
  "language_info": {
   "codemirror_mode": {
    "name": "ipython",
    "version": 3
   },
   "file_extension": ".py",
   "mimetype": "text/x-python",
   "name": "python",
   "nbconvert_exporter": "python",
   "pygments_lexer": "ipython3",
   "version": "3.7.0"
  }
 },
 "nbformat": 4,
 "nbformat_minor": 2
}
