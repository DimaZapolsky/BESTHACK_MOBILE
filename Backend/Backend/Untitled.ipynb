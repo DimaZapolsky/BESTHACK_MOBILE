{
 "cells": [
  {
   "cell_type": "code",
   "execution_count": 1,
   "metadata": {},
   "outputs": [
    {
     "ename": "TypeError",
     "evalue": "object of type 'NoneType' has no len()",
     "output_type": "error",
     "traceback": [
      "\u001b[0;31m---------------------------------------------------------------------------\u001b[0m",
      "\u001b[0;31mTypeError\u001b[0m                                 Traceback (most recent call last)",
      "\u001b[0;32m<ipython-input-1-d97a1dc324fe>\u001b[0m in \u001b[0;36m<module>\u001b[0;34m()\u001b[0m\n\u001b[1;32m     88\u001b[0m     \u001b[0msource_img\u001b[0m\u001b[0;34m.\u001b[0m\u001b[0mshow\u001b[0m\u001b[0;34m(\u001b[0m\u001b[0;34m)\u001b[0m\u001b[0;34m\u001b[0m\u001b[0m\n\u001b[1;32m     89\u001b[0m \u001b[0;34m\u001b[0m\u001b[0m\n\u001b[0;32m---> 90\u001b[0;31m \u001b[0mprocess_card\u001b[0m\u001b[0;34m(\u001b[0m\u001b[0;34m\"real5.png\"\u001b[0m\u001b[0;34m)\u001b[0m\u001b[0;34m\u001b[0m\u001b[0m\n\u001b[0m",
      "\u001b[0;32m<ipython-input-1-d97a1dc324fe>\u001b[0m in \u001b[0;36mprocess_card\u001b[0;34m(imagepath)\u001b[0m\n\u001b[1;32m     62\u001b[0m \u001b[0;34m\u001b[0m\u001b[0m\n\u001b[1;32m     63\u001b[0m \u001b[0;32mdef\u001b[0m \u001b[0mprocess_card\u001b[0m\u001b[0;34m(\u001b[0m\u001b[0mimagepath\u001b[0m\u001b[0;34m)\u001b[0m\u001b[0;34m:\u001b[0m\u001b[0;34m\u001b[0m\u001b[0m\n\u001b[0;32m---> 64\u001b[0;31m     \u001b[0msource_img\u001b[0m \u001b[0;34m=\u001b[0m \u001b[0mImage\u001b[0m\u001b[0;34m.\u001b[0m\u001b[0mopen\u001b[0m\u001b[0;34m(\u001b[0m\u001b[0mtransform\u001b[0m\u001b[0;34m(\u001b[0m\u001b[0mimagepath\u001b[0m\u001b[0;34m)\u001b[0m\u001b[0;34m)\u001b[0m\u001b[0;34m\u001b[0m\u001b[0m\n\u001b[0m\u001b[1;32m     65\u001b[0m     \u001b[0mglobal_drawer\u001b[0m \u001b[0;34m=\u001b[0m \u001b[0mImageDraw\u001b[0m\u001b[0;34m.\u001b[0m\u001b[0mDraw\u001b[0m\u001b[0;34m(\u001b[0m\u001b[0msource_img\u001b[0m\u001b[0;34m)\u001b[0m\u001b[0;34m\u001b[0m\u001b[0m\n\u001b[1;32m     66\u001b[0m     \u001b[0mn\u001b[0m\u001b[0;34m,\u001b[0m \u001b[0mm\u001b[0m \u001b[0;34m=\u001b[0m \u001b[0;36m1\u001b[0m\u001b[0;34m,\u001b[0m \u001b[0;36m3\u001b[0m\u001b[0;34m\u001b[0m\u001b[0m\n",
      "\u001b[0;32m<ipython-input-1-d97a1dc324fe>\u001b[0m in \u001b[0;36mtransform\u001b[0;34m(imagepath)\u001b[0m\n\u001b[1;32m     44\u001b[0m \u001b[0;32mdef\u001b[0m \u001b[0mtransform\u001b[0m\u001b[0;34m(\u001b[0m\u001b[0mimagepath\u001b[0m\u001b[0;34m)\u001b[0m\u001b[0;34m:\u001b[0m\u001b[0;34m\u001b[0m\u001b[0m\n\u001b[1;32m     45\u001b[0m     \u001b[0mimage\u001b[0m \u001b[0;34m=\u001b[0m \u001b[0mcv2\u001b[0m\u001b[0;34m.\u001b[0m\u001b[0mimread\u001b[0m\u001b[0;34m(\u001b[0m\u001b[0mimagepath\u001b[0m\u001b[0;34m)\u001b[0m\u001b[0;34m\u001b[0m\u001b[0m\n\u001b[0;32m---> 46\u001b[0;31m     \u001b[0;32mif\u001b[0m \u001b[0mlen\u001b[0m\u001b[0;34m(\u001b[0m\u001b[0mimage\u001b[0m\u001b[0;34m)\u001b[0m \u001b[0;34m>\u001b[0m \u001b[0;36m600\u001b[0m \u001b[0;32mor\u001b[0m \u001b[0mlen\u001b[0m\u001b[0;34m(\u001b[0m\u001b[0mimage\u001b[0m\u001b[0;34m[\u001b[0m\u001b[0;36m0\u001b[0m\u001b[0;34m]\u001b[0m\u001b[0;34m)\u001b[0m \u001b[0;34m>\u001b[0m \u001b[0;36m600\u001b[0m\u001b[0;34m:\u001b[0m\u001b[0;34m\u001b[0m\u001b[0m\n\u001b[0m\u001b[1;32m     47\u001b[0m         \u001b[0mimage\u001b[0m \u001b[0;34m=\u001b[0m \u001b[0mcv2\u001b[0m\u001b[0;34m.\u001b[0m\u001b[0mresize\u001b[0m\u001b[0;34m(\u001b[0m\u001b[0mimage\u001b[0m\u001b[0;34m,\u001b[0m \u001b[0;32mNone\u001b[0m\u001b[0;34m,\u001b[0m \u001b[0mfx\u001b[0m\u001b[0;34m=\u001b[0m\u001b[0;36m0.4\u001b[0m\u001b[0;34m,\u001b[0m \u001b[0mfy\u001b[0m\u001b[0;34m=\u001b[0m\u001b[0;36m0.4\u001b[0m\u001b[0;34m,\u001b[0m \u001b[0minterpolation\u001b[0m\u001b[0;34m=\u001b[0m\u001b[0mcv2\u001b[0m\u001b[0;34m.\u001b[0m\u001b[0mINTER_CUBIC\u001b[0m\u001b[0;34m)\u001b[0m\u001b[0;34m\u001b[0m\u001b[0m\n\u001b[1;32m     48\u001b[0m     \u001b[0mfilename\u001b[0m \u001b[0;34m=\u001b[0m \u001b[0;34m\"{}.png\"\u001b[0m\u001b[0;34m.\u001b[0m\u001b[0mformat\u001b[0m\u001b[0;34m(\u001b[0m\u001b[0mimagepath\u001b[0m\u001b[0;34m.\u001b[0m\u001b[0msplit\u001b[0m\u001b[0;34m(\u001b[0m\u001b[0;34m'.'\u001b[0m\u001b[0;34m)\u001b[0m\u001b[0;34m[\u001b[0m\u001b[0;36m0\u001b[0m\u001b[0;34m]\u001b[0m \u001b[0;34m+\u001b[0m \u001b[0;34m\"_processed\"\u001b[0m\u001b[0;34m)\u001b[0m\u001b[0;34m\u001b[0m\u001b[0m\n",
      "\u001b[0;31mTypeError\u001b[0m: object of type 'NoneType' has no len()"
     ]
    }
   ],
   "source": [
    "from PIL import Image, ImageDraw\n",
    "from PIL import ImageFilter\n",
    "import pytesseract\n",
    "from copy import deepcopy\n",
    "import cv2\n",
    "import numpy as np\n",
    "import os\n",
    "import imutils\n",
    "import json\n",
    "from imutils import contours\n",
    "\n",
    "\n",
    "def real_text_boxes(image, xoffset = 0, yoffset = 0, global_draw=None, show_seg=False, lang='eng'):\n",
    "    boxes = pytesseract.image_to_boxes(image, lang=lang, config='--psm 1')\n",
    "    copy_image = deepcopy(image)\n",
    "    draw = ImageDraw.Draw(copy_image)\n",
    "    real_boxes = []\n",
    "    for box in boxes.split('\\n'):\n",
    "        box = box.split(' ')\n",
    "        if len(box) < 5:\n",
    "            continue\n",
    "        if global_draw != None:\n",
    "            global_draw.rectangle((((int(box[1]) + xoffset, image.height - int(box[2]) + yoffset),\n",
    "                                    (int(box[3]) + xoffset, image.height - int(box[4]) + yoffset))), outline=(255))\n",
    "        draw.rectangle((((int(box[1]) + xoffset, image.height - int(box[2]) + yoffset),\n",
    "                         (int(box[3]) + xoffset, image.height - int(box[4]) + yoffset))), outline=(255))\n",
    "        real_boxes.append((box[0], int(box[1]) + xoffset, image.height - int(box[2]) + yoffset, int(box[3]) + xoffset, image.height - int(box[4]) + yoffset))\n",
    "    if show_seg:\n",
    "        copy_image.show()\n",
    "    del copy_image\n",
    "    del draw\n",
    "    return real_boxes\n",
    "\n",
    "\n",
    "def create_image_crop(image, n, m):\n",
    "    crops = []\n",
    "    for i in range(0, n):\n",
    "        for j in range(0, m):\n",
    "            crops.append((image.crop((i * image.width // n, j * image.height // m,\n",
    "                                    (i + 1) * image.width // n, (j + 1) * image.height // m)), i, j))\n",
    "    return crops\n",
    "\n",
    "\n",
    "def transform(imagepath):\n",
    "    image = cv2.imread(imagepath)\n",
    "    if len(image) > 600 or len(image[0]) > 600:\n",
    "        image = cv2.resize(image, None, fx=0.4, fy=0.4, interpolation=cv2.INTER_CUBIC)\n",
    "    filename = \"{}.png\".format(imagepath.split('.')[0] + \"_processed\")\n",
    "    image = cv2.resize(image, None, fx=1.3, fy=1.3, interpolation=cv2.INTER_CUBIC)\n",
    "    print(np.mean(image), end=\" is a \")\n",
    "    if np.mean(image) < 127: ## BLACK TRANSFORM\n",
    "        gray = cv2.cvtColor(image, cv2.COLOR_BGR2GRAY)\n",
    "        gray = cv2.GaussianBlur(gray, (5, 5), 0)\n",
    "        cv2.imwrite(filename, gray)\n",
    "    else:\n",
    "        print(\"Light Image\")\n",
    "        gray = cv2.cvtColor(image, cv2.COLOR_BGR2GRAY)\n",
    "        gray = cv2.bilateralFilter(gray,9,75,75)\n",
    "        cv2.imwrite(filename, gray)\n",
    "    return filename\n",
    "\n",
    "\n",
    "def process_card(imagepath):\n",
    "    source_img = Image.open(transform(imagepath))\n",
    "    global_drawer = ImageDraw.Draw(source_img)\n",
    "    n, m = 1, 3\n",
    "    crops = create_image_crop(source_img, n, m)\n",
    "    json_data = {}\n",
    "    json_data[\"count\"] = 0\n",
    "    json_data[\"items\"] = []\n",
    "    dw = source_img.width // n\n",
    "    dh = source_img.height // m\n",
    "    ys = set()\n",
    "    for crop in crops:\n",
    "        print(pytesseract.image_to_string(crop[0]))\n",
    "        for box in real_text_boxes(crop[0], xoffset=dw*crop[1], yoffset=dh*crop[2], global_draw=global_drawer):\n",
    "            arr = {}\n",
    "            print(box)\n",
    "            arr[\"str\"] = box[0]\n",
    "            arr[\"x1\"] = min(box[1], box[3])\n",
    "            arr[\"y1\"] = min(box[2], box[4])\n",
    "            arr[\"x2\"] = max(box[1], box[3])\n",
    "            arr[\"y2\"] = max(box[2], box[4])\n",
    "            json_data[\"items\"].append(arr)\n",
    "    file2save = open('({}).json'.format(imagepath), \"w\")\n",
    "    file2save.write(json.dumps(json_data))\n",
    "    file2save.close()\n",
    "    source_img.show()\n",
    "\n",
    "process_card(\"real5.png\")"
   ]
  },
  {
   "cell_type": "code",
   "execution_count": 5,
   "metadata": {},
   "outputs": [
    {
     "name": "stdout",
     "output_type": "stream",
     "text": [
      "Requirement already satisfied: opencv-python in /anaconda3/lib/python3.7/site-packages (4.0.0.21)\r\n",
      "Requirement already satisfied: numpy>=1.14.5 in /anaconda3/lib/python3.7/site-packages (from opencv-python) (1.15.1)\r\n"
     ]
    }
   ],
   "source": [
    "!pip install opencv-python"
   ]
  },
  {
   "cell_type": "code",
   "execution_count": null,
   "metadata": {},
   "outputs": [],
   "source": []
  }
 ],
 "metadata": {
  "kernelspec": {
   "display_name": "Python 3",
   "language": "python",
   "name": "python3"
  },
  "language_info": {
   "codemirror_mode": {
    "name": "ipython",
    "version": 3
   },
   "file_extension": ".py",
   "mimetype": "text/x-python",
   "name": "python",
   "nbconvert_exporter": "python",
   "pygments_lexer": "ipython3",
   "version": "3.7.0"
  }
 },
 "nbformat": 4,
 "nbformat_minor": 2
}
